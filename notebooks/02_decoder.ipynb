{
 "cells": [
  {
   "cell_type": "code",
   "execution_count": 1,
   "metadata": {},
   "outputs": [],
   "source": [
    "%load_ext autoreload\n",
    "%autoreload 2\n",
    "\n",
    "%matplotlib inline"
   ]
  },
  {
   "cell_type": "code",
   "execution_count": 2,
   "metadata": {},
   "outputs": [],
   "source": [
    "#export\n",
    "from exp.nb_01 import *"
   ]
  },
  {
   "cell_type": "code",
   "execution_count": 3,
   "metadata": {},
   "outputs": [],
   "source": [
    "#export\n",
    "class DepthToSpace(torch.nn.Module):\n",
    "    def __init__(self,block_size):\n",
    "        super().__init__()\n",
    "        self.bs = block_size\n",
    "        \n",
    "    def forward(self, x):\n",
    "        N, C, H, W = x.size()\n",
    "        x = x.view(N, self.bs, self.bs, C // (self.bs ** 2), H, W)\n",
    "        x = x.permute(0, 3, 4, 1, 5, 2).contiguous()\n",
    "        x = x.view(N, C // (self.bs ** 2), H * self.bs, W * self.bs)\n",
    "        return x"
   ]
  },
  {
   "cell_type": "code",
   "execution_count": 4,
   "metadata": {},
   "outputs": [],
   "source": [
    "#export\n",
    "class Decoder(nn.Module):\n",
    "    def __init__(self):\n",
    "        super(Decoder, self).__init__()\n",
    "        self.decoder = nn.Sequential(conv(64,512,1,1,0), nn.ReLU(),\n",
    "                                    ResBlock(512), nn.ReLU(),\n",
    "                                    ResBlock(512), nn.ReLU(),\n",
    "                                    DepthToSpace(2),\n",
    "                                    conv(128,256), nn.ReLU(),\n",
    "                                    ResBlock(256), nn.ReLU(),\n",
    "                                    DepthToSpace(4),\n",
    "                                    conv(16,32), nn.ReLU(),\n",
    "                                    conv(32,3))\n",
    "        \n",
    "    def extra_repr(self):\n",
    "        params = sum(p.numel() for p in self.parameters())\n",
    "        return f'Total Params: {params}'\n",
    "        \n",
    "    def forward(self,x):\n",
    "        return self.decoder(x)"
   ]
  },
  {
   "cell_type": "code",
   "execution_count": 5,
   "metadata": {},
   "outputs": [
    {
     "data": {
      "text/plain": [
       "==========================================================================================\n",
       "Layer (type:depth-idx)                   Output Shape              Param #\n",
       "==========================================================================================\n",
       "Decoder                                  --                        --\n",
       "├─Sequential: 1-1                        [1, 3, 128, 128]          --\n",
       "│    └─Conv2d: 2-1                       [1, 512, 16, 16]          33,280\n",
       "│    └─ReLU: 2-2                         [1, 512, 16, 16]          --\n",
       "│    └─ResBlock: 2-3                     [1, 512, 16, 16]          --\n",
       "│    │    └─Conv2d: 3-1                  [1, 128, 16, 16]          589,952\n",
       "│    │    └─Conv2d: 3-2                  [1, 512, 16, 16]          590,336\n",
       "│    └─ReLU: 2-4                         [1, 512, 16, 16]          --\n",
       "│    └─ResBlock: 2-5                     [1, 512, 16, 16]          --\n",
       "│    │    └─Conv2d: 3-3                  [1, 128, 16, 16]          589,952\n",
       "│    │    └─Conv2d: 3-4                  [1, 512, 16, 16]          590,336\n",
       "│    └─ReLU: 2-6                         [1, 512, 16, 16]          --\n",
       "│    └─DepthToSpace: 2-7                 [1, 128, 32, 32]          --\n",
       "│    └─Conv2d: 2-8                       [1, 256, 32, 32]          295,168\n",
       "│    └─ReLU: 2-9                         [1, 256, 32, 32]          --\n",
       "│    └─ResBlock: 2-10                    [1, 256, 32, 32]          --\n",
       "│    │    └─Conv2d: 3-5                  [1, 128, 32, 32]          295,040\n",
       "│    │    └─Conv2d: 3-6                  [1, 256, 32, 32]          295,168\n",
       "│    └─ReLU: 2-11                        [1, 256, 32, 32]          --\n",
       "│    └─DepthToSpace: 2-12                [1, 16, 128, 128]         --\n",
       "│    └─Conv2d: 2-13                      [1, 32, 128, 128]         4,640\n",
       "│    └─ReLU: 2-14                        [1, 32, 128, 128]         --\n",
       "│    └─Conv2d: 2-15                      [1, 3, 128, 128]          867\n",
       "==========================================================================================\n",
       "Total params: 3,284,739\n",
       "Trainable params: 3,284,739\n",
       "Non-trainable params: 0\n",
       "Total mult-adds (G): 1.61\n",
       "==========================================================================================\n",
       "Input size (MB): 0.07\n",
       "Forward/backward pass size (MB): 13.50\n",
       "Params size (MB): 13.14\n",
       "Estimated Total Size (MB): 26.70\n",
       "=========================================================================================="
      ]
     },
     "execution_count": 5,
     "metadata": {},
     "output_type": "execute_result"
    }
   ],
   "source": [
    "dec = Decoder()\n",
    "from torchinfo import summary\n",
    "summary(dec, (1, 64,16,16), device=\"cpu\")"
   ]
  },
  {
   "cell_type": "markdown",
   "metadata": {},
   "source": [
    "Entropy Based Layers"
   ]
  },
  {
   "cell_type": "code",
   "execution_count": 6,
   "metadata": {},
   "outputs": [],
   "source": [
    "#export\n",
    "class Quantizer(torch.autograd.Function):\n",
    "    @staticmethod\n",
    "    def forward(ctx, i):\n",
    "        p = i.clone()\n",
    "        L = 16\n",
    "        for l in range(L):\n",
    "            p[(p>=l/L)*(p<(l+1)/L)] = l\n",
    "        return p\n",
    "    @staticmethod\n",
    "    def backward(ctx, grad_output):\n",
    "        return grad_output\n",
    "\n",
    "def quantize_values(x):\n",
    "    return Quantizer.apply(x)"
   ]
  },
  {
   "cell_type": "code",
   "execution_count": 7,
   "metadata": {},
   "outputs": [],
   "source": [
    "#export\n",
    "class Mask(torch.autograd.Function):\n",
    "    @staticmethod\n",
    "    def forward(ctx,i):\n",
    "        device = i.device\n",
    "        N,_,H,W = i.shape\n",
    "        n = 64\n",
    "        L = 16\n",
    "        mask = torch.zeros(n, N*H*W).to(device)\n",
    "        qimp = i\n",
    "        qimp_flat = qimp.view(1, N*H*W)\n",
    "        for indx in range(n):\n",
    "            mask[indx,:] = torch.where(indx < (n/L)*qimp_flat,torch.Tensor([1]).to(device),torch.Tensor([0]).to(device))\n",
    "        mask = mask.view(n,N,H,W).permute((1,0,2,3))\n",
    "        return mask\n",
    "\n",
    "    @staticmethod\n",
    "    def backward(ctx, grad_output):\n",
    "        N,C,H,W = grad_output.shape\n",
    "        return torch.ones(N,1,H,W).to(grad_output.device)\n",
    "\n",
    "def generate_mask(x):\n",
    "    return Mask.apply(x)"
   ]
  },
  {
   "cell_type": "code",
   "execution_count": 8,
   "metadata": {},
   "outputs": [
    {
     "name": "stdout",
     "output_type": "stream",
     "text": [
      "tensor([[0.4283, 0.8598, 0.1396, 0.5758],\n",
      "        [0.5413, 0.2879, 0.2739, 0.4917],\n",
      "        [0.2935, 0.0594, 0.9540, 0.7086],\n",
      "        [0.8742, 0.8271, 0.9119, 0.7585]], requires_grad=True)\n"
     ]
    }
   ],
   "source": [
    "a = torch.rand(4,4,requires_grad=True)\n",
    "print(a)"
   ]
  },
  {
   "cell_type": "code",
   "execution_count": 9,
   "metadata": {},
   "outputs": [
    {
     "name": "stdout",
     "output_type": "stream",
     "text": [
      "tensor([[0.4283, 0.8598, 0.1396, 0.5758],\n",
      "        [0.5413, 0.2879, 0.2739, 0.4917],\n",
      "        [0.2935, 0.0594, 0.9540, 0.7086],\n",
      "        [0.8742, 0.8271, 0.9119, 0.7585]], requires_grad=True)\n",
      "tensor([[0., 1., 0., 1.],\n",
      "        [1., 0., 0., 0.],\n",
      "        [0., 0., 1., 1.],\n",
      "        [1., 1., 1., 1.]], grad_fn=<BinarizerBackward>)\n"
     ]
    }
   ],
   "source": [
    "b = bin_values(a)\n",
    "print(a)\n",
    "print(b)"
   ]
  },
  {
   "cell_type": "code",
   "execution_count": 10,
   "metadata": {},
   "outputs": [
    {
     "name": "stdout",
     "output_type": "stream",
     "text": [
      "Loss:9.0\n"
     ]
    }
   ],
   "source": [
    "loss = b.sum()\n",
    "print('Loss:{}'.format(loss))"
   ]
  },
  {
   "cell_type": "code",
   "execution_count": 11,
   "metadata": {},
   "outputs": [
    {
     "name": "stderr",
     "output_type": "stream",
     "text": [
      "/home/adityassrana/anaconda3/envs/pytorch/lib/python3.9/site-packages/torch/autograd/__init__.py:154: UserWarning: CUDA initialization: CUDA unknown error - this may be due to an incorrectly set up environment, e.g. changing env variable CUDA_VISIBLE_DEVICES after program start. Setting the available devices to be zero. (Triggered internally at  /opt/conda/conda-bld/pytorch_1634272204863/work/c10/cuda/CUDAFunctions.cpp:112.)\n",
      "  Variable._execution_engine.run_backward(\n"
     ]
    },
    {
     "data": {
      "text/plain": [
       "tensor([[1., 1., 1., 1.],\n",
       "        [1., 1., 1., 1.],\n",
       "        [1., 1., 1., 1.],\n",
       "        [1., 1., 1., 1.]])"
      ]
     },
     "execution_count": 11,
     "metadata": {},
     "output_type": "execute_result"
    }
   ],
   "source": [
    "loss.backward()\n",
    "a.grad"
   ]
  },
  {
   "cell_type": "code",
   "execution_count": 12,
   "metadata": {},
   "outputs": [
    {
     "name": "stdout",
     "output_type": "stream",
     "text": [
      "tensor([[[[0.0903, 0.7760, 0.5508, 0.6340],\n",
      "          [0.0921, 0.9516, 0.9845, 0.4161],\n",
      "          [0.1060, 0.4921, 0.5821, 0.0448],\n",
      "          [0.1448, 0.3033, 0.6726, 0.7270]]]], requires_grad=True)\n"
     ]
    }
   ],
   "source": [
    "imp_map = torch.rand(1,1,4,4,requires_grad=True)\n",
    "print(imp_map)"
   ]
  },
  {
   "cell_type": "code",
   "execution_count": 13,
   "metadata": {},
   "outputs": [
    {
     "name": "stdout",
     "output_type": "stream",
     "text": [
      "tensor([[[[0.0903, 0.7760, 0.5508, 0.6340],\n",
      "          [0.0921, 0.9516, 0.9845, 0.4161],\n",
      "          [0.1060, 0.4921, 0.5821, 0.0448],\n",
      "          [0.1448, 0.3033, 0.6726, 0.7270]]]], requires_grad=True)\n",
      "tensor([[[[ 1., 12.,  8., 10.],\n",
      "          [ 1., 15., 15.,  6.],\n",
      "          [ 1.,  7.,  9.,  0.],\n",
      "          [ 2.,  4., 10., 11.]]]], grad_fn=<QuantizerBackward>)\n"
     ]
    }
   ],
   "source": [
    "qimp = quantize_values(imp_map)\n",
    "print(imp_map)\n",
    "print(qimp)"
   ]
  },
  {
   "cell_type": "code",
   "execution_count": 14,
   "metadata": {},
   "outputs": [
    {
     "name": "stdout",
     "output_type": "stream",
     "text": [
      "tensor([[[[ 1., 12.,  8., 10.],\n",
      "          [ 1., 15., 15.,  6.],\n",
      "          [ 1.,  7.,  9.,  0.],\n",
      "          [ 2.,  4., 10., 11.]]]], grad_fn=<QuantizerBackward>)\n",
      "tensor([[[[1., 1., 1., 1.],\n",
      "          [1., 1., 1., 1.],\n",
      "          [1., 1., 1., 0.],\n",
      "          [1., 1., 1., 1.]],\n",
      "\n",
      "         [[1., 1., 1., 1.],\n",
      "          [1., 1., 1., 1.],\n",
      "          [1., 1., 1., 0.],\n",
      "          [1., 1., 1., 1.]],\n",
      "\n",
      "         [[1., 1., 1., 1.],\n",
      "          [1., 1., 1., 1.],\n",
      "          [1., 1., 1., 0.],\n",
      "          [1., 1., 1., 1.]],\n",
      "\n",
      "         ...,\n",
      "\n",
      "         [[0., 0., 0., 0.],\n",
      "          [0., 0., 0., 0.],\n",
      "          [0., 0., 0., 0.],\n",
      "          [0., 0., 0., 0.]],\n",
      "\n",
      "         [[0., 0., 0., 0.],\n",
      "          [0., 0., 0., 0.],\n",
      "          [0., 0., 0., 0.],\n",
      "          [0., 0., 0., 0.]],\n",
      "\n",
      "         [[0., 0., 0., 0.],\n",
      "          [0., 0., 0., 0.],\n",
      "          [0., 0., 0., 0.],\n",
      "          [0., 0., 0., 0.]]]], grad_fn=<MaskBackward>)\n"
     ]
    }
   ],
   "source": [
    "mask = generate_mask(qimp)\n",
    "print(qimp)\n",
    "print(mask)"
   ]
  },
  {
   "cell_type": "code",
   "execution_count": 15,
   "metadata": {},
   "outputs": [],
   "source": [
    "loss = mask.sum()\n",
    "loss.backward()"
   ]
  },
  {
   "cell_type": "code",
   "execution_count": 16,
   "metadata": {},
   "outputs": [
    {
     "data": {
      "text/plain": [
       "tensor([[[[1., 1., 1., 1.],\n",
       "          [1., 1., 1., 1.],\n",
       "          [1., 1., 1., 1.],\n",
       "          [1., 1., 1., 1.]]]])"
      ]
     },
     "execution_count": 16,
     "metadata": {},
     "output_type": "execute_result"
    }
   ],
   "source": [
    "imp_map.grad"
   ]
  },
  {
   "cell_type": "code",
   "execution_count": 17,
   "metadata": {},
   "outputs": [
    {
     "name": "stdout",
     "output_type": "stream",
     "text": [
      "tensor(0.0903, grad_fn=<SelectBackward0>)\n",
      "tensor(1., grad_fn=<SelectBackward0>)\n",
      "tensor([1., 1., 1., 1., 0., 0., 0., 0., 0., 0., 0., 0., 0., 0., 0., 0., 0., 0.,\n",
      "        0., 0., 0., 0., 0., 0., 0., 0., 0., 0., 0., 0., 0., 0., 0., 0., 0., 0.,\n",
      "        0., 0., 0., 0., 0., 0., 0., 0., 0., 0., 0., 0., 0., 0., 0., 0., 0., 0.,\n",
      "        0., 0., 0., 0., 0., 0., 0., 0., 0., 0.], grad_fn=<SelectBackward0>)\n",
      "tensor(4., grad_fn=<SumBackward0>)\n"
     ]
    }
   ],
   "source": [
    "print(imp_map[0,0,0,0])\n",
    "print(qimp[0,0,0,0])\n",
    "print(mask[0,:,0,0])\n",
    "print(mask[0,:,0,0].sum())"
   ]
  },
  {
   "cell_type": "code",
   "execution_count": 18,
   "metadata": {},
   "outputs": [
    {
     "data": {
      "text/plain": [
       "torch.Size([1, 64, 4, 4])"
      ]
     },
     "execution_count": 18,
     "metadata": {},
     "output_type": "execute_result"
    }
   ],
   "source": [
    "mask.size()"
   ]
  },
  {
   "cell_type": "code",
   "execution_count": 19,
   "metadata": {},
   "outputs": [
    {
     "name": "stdout",
     "output_type": "stream",
     "text": [
      "Converted 02_decoder.ipynb to exp/nb_02.py\r\n"
     ]
    }
   ],
   "source": [
    "!python notebook2script.py 02_decoder.ipynb"
   ]
  },
  {
   "cell_type": "code",
   "execution_count": null,
   "metadata": {},
   "outputs": [],
   "source": []
  }
 ],
 "metadata": {
  "kernelspec": {
   "display_name": "Python 3",
   "language": "python",
   "name": "python3"
  },
  "language_info": {
   "codemirror_mode": {
    "name": "ipython",
    "version": 3
   },
   "file_extension": ".py",
   "mimetype": "text/x-python",
   "name": "python",
   "nbconvert_exporter": "python",
   "pygments_lexer": "ipython3",
   "version": "3.9.7"
  }
 },
 "nbformat": 4,
 "nbformat_minor": 4
}
